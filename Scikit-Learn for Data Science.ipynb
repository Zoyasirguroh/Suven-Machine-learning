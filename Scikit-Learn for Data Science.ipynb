{
 "cells": [
  {
   "cell_type": "markdown",
   "metadata": {},
   "source": [
    "# Scikit-learn"
   ]
  },
  {
   "cell_type": "raw",
   "metadata": {},
   "source": [
    "Scikit-learn is one  of the most important and indispensable Python frameworks for Data Science and Machine Learning in Python.  ( in coding you would see it as \"sklearn\" )\n",
    "\n",
    "It implements a wide range of Machine Learning algorithms covering major\n",
    "areas of Machine Learning like classification, clustering, regression, and so on. \n",
    "\n",
    "All the mainstream Machine Learning algorithms like support vector machines, logistic regression, random forests, K-means clustering, hierarchical clustering, and many many more, are implemented efficiently in this library."
   ]
  },
  {
   "cell_type": "raw",
   "metadata": {},
   "source": [
    "Example 1 : Scikit-learn : Regression Models"
   ]
  },
  {
   "cell_type": "raw",
   "metadata": {},
   "source": [
    "1> For our regression example, we will use one of the datasets bundled with the scikit-learn library, the diabetes dataset.\n",
    "\n",
    "2> The diabetes dataset is one of the bundled datasets with the scikit-learn library. This small dataset allows the new users of the library to learn and experiment various Machine Learning concepts, with a well-known dataset. \n",
    "\n",
    "3> It contains observations of 10 baseline variables namely age, sex, body mass index, average blood pressure, and six blood serum measurements for 442 diabetes patients."
   ]
  },
  {
   "cell_type": "code",
   "execution_count": 34,
   "metadata": {},
   "outputs": [],
   "source": [
    "from sklearn import datasets\n",
    "diabetes = datasets.load_diabetes()  \n",
    "X = diabetes.data # 442 observation , 10 features\n",
    "y = diabetes.target"
   ]
  },
  {
   "cell_type": "raw",
   "metadata": {},
   "source": [
    "Here X -> indicates set of independent variable.\n",
    "     y -> indicates the dependent or response or target variable.\n",
    "     \n",
    "The response (or target variable) is a quantitative measure of disease progression one year after baseline. The dataset can be used to answer\n",
    "two questions:\n",
    "\n",
    "• What is the baseline prediction of disease progression for future patients?\n",
    "# baseline prediction : is the average of dependent variables.\n",
    "\n",
    "• Which independent variables (features) are important factors for predicting disease progression?"
   ]
  },
  {
   "cell_type": "code",
   "execution_count": 35,
   "metadata": {},
   "outputs": [
    {
     "data": {
      "text/plain": [
       "(442, 10)"
      ]
     },
     "execution_count": 35,
     "metadata": {},
     "output_type": "execute_result"
    }
   ],
   "source": [
    "X.shape"
   ]
  },
  {
   "cell_type": "code",
   "execution_count": 36,
   "metadata": {},
   "outputs": [
    {
     "data": {
      "text/plain": [
       "(442,)"
      ]
     },
     "execution_count": 36,
     "metadata": {},
     "output_type": "execute_result"
    }
   ],
   "source": [
    "y.shape"
   ]
  },
  {
   "cell_type": "raw",
   "metadata": {},
   "source": [
    "Since we are using the data in the form of numpy arrays, we don’t get the name of the features in the data itself. \n",
    "\n",
    "But we will keep the reference to the variable names as they may be needed later in our process or just for future reference."
   ]
  },
  {
   "cell_type": "code",
   "execution_count": 37,
   "metadata": {},
   "outputs": [],
   "source": [
    "feature_names=['age', 'sex', 'bmi', 'bp',\n",
    "               's1', 's2', 's3', 's4', 's5', 's6']"
   ]
  },
  {
   "cell_type": "raw",
   "metadata": {},
   "source": [
    "For prediction of the response variable here, we will learn a Lasso model. A Lasso model is an extension of the normal linear regression model which allows us to apply L1 regularization to the model. \n",
    "\n",
    "Simply put, a lasso regression will try to minimize the number of independent variables in the final model. This will give us the model with the most important variables only."
   ]
  },
  {
   "cell_type": "markdown",
   "metadata": {},
   "source": [
    "# Scikit example regression"
   ]
  },
  {
   "cell_type": "raw",
   "metadata": {},
   "source": [
    " Only logically understand this example. Don't stress too much on the Maths !! \n",
    " ----------------------------------------------------------------------------\n",
    " >>> Below we see an example, just to give you an overall feel of Scikit-Learn's capability. After the \"diabetes\" dataset example, we will understand all steps of applying \"Scikit-Learn\" in a simple manner."
   ]
  },
  {
   "cell_type": "code",
   "execution_count": 38,
   "metadata": {},
   "outputs": [
    {
     "data": {
      "text/plain": [
       "GridSearchCV(cv=None, error_score=nan,\n",
       "             estimator=Lasso(alpha=1.0, copy_X=True, fit_intercept=True,\n",
       "                             max_iter=1000, normalize=False, positive=False,\n",
       "                             precompute=False, random_state=0,\n",
       "                             selection='cyclic', tol=0.0001, warm_start=False),\n",
       "             iid='deprecated', n_jobs=None,\n",
       "             param_grid={'alpha': array([1.00000000e-04, 1.32035178e-04, 1.74332882e-04, 2.30180731e-04,\n",
       "       3.03919538e-04,...\n",
       "       2.80721620e-03, 3.70651291e-03, 4.89390092e-03, 6.46167079e-03,\n",
       "       8.53167852e-03, 1.12648169e-02, 1.48735211e-02, 1.96382800e-02,\n",
       "       2.59294380e-02, 3.42359796e-02, 4.52035366e-02, 5.96845700e-02,\n",
       "       7.88046282e-02, 1.04049831e-01, 1.37382380e-01, 1.81393069e-01,\n",
       "       2.39502662e-01, 3.16227766e-01])},\n",
       "             pre_dispatch='2*n_jobs', refit=True, return_train_score=False,\n",
       "             scoring=None, verbose=0)"
      ]
     },
     "execution_count": 38,
     "metadata": {},
     "output_type": "execute_result"
    }
   ],
   "source": [
    "import warnings; warnings.simplefilter('ignore')  # to suppress warnings\n",
    "\n",
    "import numpy as np\n",
    "from sklearn import datasets\n",
    "from sklearn.linear_model import Lasso\n",
    "\n",
    "from sklearn import linear_model, datasets\n",
    "from sklearn.model_selection import GridSearchCV\n",
    "\n",
    "diabetes = datasets.load_diabetes()\n",
    "\n",
    "# We will split our data into separate test and train sets of data \n",
    "# (train is used to train the model and test is used for \n",
    "# model performance testing and evaluation).\n",
    "\n",
    "X_train = diabetes.data[:310] # 0 to 309 observations i.e 310 records\n",
    "y_train = diabetes.target[:310]\n",
    "\n",
    "X_test = diabetes.data[310:]\n",
    "y_test = diabetes.target[310:]\n",
    "\n",
    "# Lasso model\n",
    "lasso = Lasso(random_state=0)  # random_state is like a seed point \n",
    "alphas = np.logspace(-4, -0.5, 30) #fine tuning just to keep in mind->(example digital radio)\n",
    "# logspace computes its start and end points as\n",
    "# base**start and base**stop respectively. \n",
    "# here start = -4 means 10**-4\n",
    "# stop = -0.5 means 10**-0.5\n",
    "# num = 30 means total number of values as 30 between the start and end range\n",
    "# Numpy logspace return numbers spaced evenly on a log scale.\n",
    "\n",
    "\n",
    "estimator = GridSearchCV(lasso,param_grid = dict(alpha=alphas))#gridsearch is predefine to help you not give a loop\n",
    "                                                                #(dict is to make a key value pair)\n",
    "#He is testing 30 lasso models over training data\n",
    "    #-->But retain or remembers only 1 lasso model\n",
    "    #---->therefore at the end only 1 lasso model or ML model is retained \n",
    "# GridSearchCV finds the lasso model.\n",
    "# this means the lasso model with the best hyperparameter\n",
    "# Our hyperparameter here is alpha #where alpha has 30 different values\n",
    "# GridSearchCV test the lasso model performance for each alpha\n",
    "# and finally creates a lasso model estimator object with the most optimum \n",
    "# alpha value.\n",
    "\n",
    "\n",
    "estimator.fit(X_train, y_train)\n"
   ]
  },
  {
   "cell_type": "raw",
   "metadata": {},
   "source": [
    "> Above code, will take our train set and learn a group of Lasso models by varying the value of the alpha hyperparameter. (it tries 30 different alpha values)\n",
    "\n",
    "> The GridSearchCV object will also score the models that we are learning and we can us the best_estimator_ attribute to identify the model and the optimal value of the hyperparameter that gave us the best score. \n",
    "\n",
    "> Also we can directly use the same object for predicting with the best model on unknown data."
   ]
  },
  {
   "cell_type": "code",
   "execution_count": 39,
   "metadata": {},
   "outputs": [
    {
     "data": {
      "text/plain": [
       "0.46170948106181975"
      ]
     },
     "execution_count": 39,
     "metadata": {},
     "output_type": "execute_result"
    }
   ],
   "source": [
    "estimator.best_score_"
   ]
  },
  {
   "cell_type": "code",
   "execution_count": 40,
   "metadata": {},
   "outputs": [
    {
     "data": {
      "text/plain": [
       "Lasso(alpha=0.07880462815669913, copy_X=True, fit_intercept=True, max_iter=1000,\n",
       "      normalize=False, positive=False, precompute=False, random_state=0,\n",
       "      selection='cyclic', tol=0.0001, warm_start=False)"
      ]
     },
     "execution_count": 40,
     "metadata": {},
     "output_type": "execute_result"
    }
   ],
   "source": [
    "estimator.best_estimator_"
   ]
  },
  {
   "cell_type": "markdown",
   "metadata": {},
   "source": [
    "estimator holds lasso model with alpha=0.078804628\n",
    "best score indicates it can predict wiht 46.54% accurancy that a paitent has diabetes "
   ]
  },
  {
   "cell_type": "code",
   "execution_count": 41,
   "metadata": {},
   "outputs": [
    {
     "data": {
      "text/plain": [
       "array([199.93864949, 178.15721853, 123.03190244, 212.49049201,\n",
       "       171.7225727 , 118.00948701, 201.00114035, 170.21721531,\n",
       "       163.34131121, 183.90933367])"
      ]
     },
     "execution_count": 41,
     "metadata": {},
     "output_type": "execute_result"
    }
   ],
   "source": [
    "estimator.predict(X_test)[:10]  # printing first 10 values. "
   ]
  },
  {
   "cell_type": "raw",
   "metadata": {},
   "source": [
    "Note on Lasso process : \n",
    "\n",
    "Often we want conduct a process called regularization, wherein we penalize the number of features in a model in order to only keep the most important features. This can be particularly important when you have a dataset with 100,000+ features.\n",
    "\n",
    "Lasso regression is a common modeling technique to do regularization. The math behind it is pretty interesting (& complex), but practically, what you need to know is that Lasso regression comes with a parameter, alpha, and the higher the alpha, the most feature coefficients are zero.\n",
    "\n",
    "That is, when alpha is 0, Lasso regression produces the same coefficients as a linear regression. When alpha is very very large, all coefficients are zero.\n",
    "\n",
    "Source : \n",
    "https://chrisalbon.com/machine_learning/linear_regression/effect_of_alpha_on_lasso_regression/"
   ]
  },
  {
   "cell_type": "markdown",
   "metadata": {},
   "source": [
    "# Basics of Scikit learn"
   ]
  },
  {
   "cell_type": "raw",
   "metadata": {},
   "source": [
    "(Above we saw an example, just to give you an overall feel of Scikit-Learn's capability)\n",
    "----------------------------------------------------------------------------\n",
    "\n",
    "This section provides an overview of the Scikit-Learn API; a solid understanding of these API elements will form the foundation for understanding the deeper practical discussion of machine learning algorithms and approaches in the following modules.\n",
    "\n",
    "We will start by covering :\n",
    "a> data representation in Scikit-Learn, followed by \n",
    "b> the Estimator API, and \n",
    "c> go through some interesting examples exploring different models like \n",
    "i>   Simple linear regression, \n",
    "ii>  Classification using Gaussian naive Bayes, \n",
    "iii> Dimensionality reduction using Principal Component Analysis, \n",
    "iv>  Clustering using Gaussian mixture model (called GMM)."
   ]
  },
  {
   "cell_type": "raw",
   "metadata": {},
   "source": [
    "Data Representation in Scikit-Learn\n",
    "\n",
    "1> Machine learning is about creating models from data.\n",
    "\n",
    "2> All ML Algos exepect their input in the form of NumPy array or a Pandas DataFrame. i.e two dimensional data.\n",
    "\n",
    "Features matrix\n",
    "---------------\n",
    "3> This two dimensional numerical array or matrix, is called \"features matrix\". By convention, this features matrix is often stored in a variable named X. The features matrix is assumed to be two-dimensional, with shape [n_samples, n_features].\n",
    "\n",
    "4> The samples (i.e., rows) always refer to the individual objects described by the dataset. For example, the sample might be a flower, a person, a document, an image, a sound file, a video, an astronomical object, or anything else you can describe with a set of quantitative measurements.\n",
    "\n",
    "5> The features (i.e., columns) always refer to the distinct observations that describe each sample in a quantitative manner. Features are generally real-valued, but may be Boolean or discrete-valued in some cases.\n",
    "\n",
    "Target Array\n",
    "------------\n",
    "6> In addition to the feature matrix X, we also generally work with a label or target array, which by convention we will usually call y. The target array is usually one dimensional, with length n_samples, and is generally contained in a NumPy array or Pandas Series. The target array may have continuous numerical values, or discrete classes/labels.\n",
    "\n",
    "7> The distinguishing feature of the target array is that it is usually the quantity we want to predict from the data: in statistical terms, it is the dependent variable. \n",
    "\n",
    "For example, in the following \"iris\" dataset,  we may wish to construct a model that can predict the species of flower based on the other measurements; in this case, the species column would be considered the feature."
   ]
  },
  {
   "cell_type": "raw",
   "metadata": {},
   "source": [
    "Simple Example to represent data in SciKit-Learn\n",
    "-------------------------------------------------\n",
    "Consider the Iris dataset, We can download this dataset in the form of a Pandas DataFrame using the Seaborn library:"
   ]
  },
  {
   "cell_type": "code",
   "execution_count": 42,
   "metadata": {
    "scrolled": true
   },
   "outputs": [
    {
     "data": {
      "text/html": [
       "<div>\n",
       "<style scoped>\n",
       "    .dataframe tbody tr th:only-of-type {\n",
       "        vertical-align: middle;\n",
       "    }\n",
       "\n",
       "    .dataframe tbody tr th {\n",
       "        vertical-align: top;\n",
       "    }\n",
       "\n",
       "    .dataframe thead th {\n",
       "        text-align: right;\n",
       "    }\n",
       "</style>\n",
       "<table border=\"1\" class=\"dataframe\">\n",
       "  <thead>\n",
       "    <tr style=\"text-align: right;\">\n",
       "      <th></th>\n",
       "      <th>sepal_length</th>\n",
       "      <th>sepal_width</th>\n",
       "      <th>petal_length</th>\n",
       "      <th>petal_width</th>\n",
       "      <th>species</th>\n",
       "    </tr>\n",
       "  </thead>\n",
       "  <tbody>\n",
       "    <tr>\n",
       "      <th>0</th>\n",
       "      <td>5.1</td>\n",
       "      <td>3.5</td>\n",
       "      <td>1.4</td>\n",
       "      <td>0.2</td>\n",
       "      <td>setosa</td>\n",
       "    </tr>\n",
       "    <tr>\n",
       "      <th>1</th>\n",
       "      <td>4.9</td>\n",
       "      <td>3.0</td>\n",
       "      <td>1.4</td>\n",
       "      <td>0.2</td>\n",
       "      <td>setosa</td>\n",
       "    </tr>\n",
       "    <tr>\n",
       "      <th>2</th>\n",
       "      <td>4.7</td>\n",
       "      <td>3.2</td>\n",
       "      <td>1.3</td>\n",
       "      <td>0.2</td>\n",
       "      <td>setosa</td>\n",
       "    </tr>\n",
       "    <tr>\n",
       "      <th>3</th>\n",
       "      <td>4.6</td>\n",
       "      <td>3.1</td>\n",
       "      <td>1.5</td>\n",
       "      <td>0.2</td>\n",
       "      <td>setosa</td>\n",
       "    </tr>\n",
       "    <tr>\n",
       "      <th>4</th>\n",
       "      <td>5.0</td>\n",
       "      <td>3.6</td>\n",
       "      <td>1.4</td>\n",
       "      <td>0.2</td>\n",
       "      <td>setosa</td>\n",
       "    </tr>\n",
       "  </tbody>\n",
       "</table>\n",
       "</div>"
      ],
      "text/plain": [
       "   sepal_length  sepal_width  petal_length  petal_width species\n",
       "0           5.1          3.5           1.4          0.2  setosa\n",
       "1           4.9          3.0           1.4          0.2  setosa\n",
       "2           4.7          3.2           1.3          0.2  setosa\n",
       "3           4.6          3.1           1.5          0.2  setosa\n",
       "4           5.0          3.6           1.4          0.2  setosa"
      ]
     },
     "execution_count": 42,
     "metadata": {},
     "output_type": "execute_result"
    }
   ],
   "source": [
    "import seaborn as sns\n",
    "iris = sns.load_dataset('iris')\n",
    "iris.head()  # by default would show 5 records"
   ]
  },
  {
   "cell_type": "markdown",
   "metadata": {},
   "source": [
    "![flower_image_sepal_petal](datasets_n_images\\images\\flower_image_sepal_petal.jpg 'flower_image_sepal_petal')"
   ]
  },
  {
   "cell_type": "raw",
   "metadata": {},
   "source": [
    "Here each row of the data refers to a single observed flower, and the number of rows is the total number of flowers in the dataset. \n",
    "\n",
    "In general, we will refer to the rows of the matrix as samples, and the number of rows as n_samples.\n",
    "\n",
    "Likewise, each column of the data refers to a particular quantitative piece of information that describes each sample. \n",
    "\n",
    "In general, we will refer to the columns of the matrix as features, and the number of columns as n_features."
   ]
  },
  {
   "cell_type": "raw",
   "metadata": {},
   "source": [
    "Features Extraction from the Iris dataset :\n",
    "------------------------------------------    \n",
    "For use in Scikit-Learn, we will extract the features matrix and \n",
    "target array from the DataFrame, which we can do using some of the Pandas DataFrame operations."
   ]
  },
  {
   "cell_type": "code",
   "execution_count": 43,
   "metadata": {},
   "outputs": [
    {
     "data": {
      "text/plain": [
       "(150, 4)"
      ]
     },
     "execution_count": 43,
     "metadata": {},
     "output_type": "execute_result"
    }
   ],
   "source": [
    "# Dropping the species of the flower , as it is the target variable\n",
    "X_iris = iris.drop('species', axis=1) # axis=1->checks columnwise\n",
    "X_iris.shape\n",
    "\n",
    "# X_iris is our features matrix"
   ]
  },
  {
   "cell_type": "code",
   "execution_count": 44,
   "metadata": {},
   "outputs": [
    {
     "data": {
      "text/plain": [
       "(150,)"
      ]
     },
     "execution_count": 44,
     "metadata": {},
     "output_type": "execute_result"
    }
   ],
   "source": [
    "# Only species form the target varible. \n",
    "y_iris = iris['species']\n",
    "y_iris.shape\n",
    "\n",
    "# i.e we will predict the species according to the features matrix"
   ]
  },
  {
   "cell_type": "markdown",
   "metadata": {},
   "source": [
    "![structure of feature matrix and target array](datasets_n_images\\images\\features_target_image.png \"structure of feature matrix and target array\")"
   ]
  },
  {
   "cell_type": "raw",
   "metadata": {},
   "source": [
    "Tool Tip : How to insert an image in Jupyter Notebook ?\n",
    "-------------------------------------------------------\n",
    "https://stackoverflow.com/questions/10628262/inserting-image-into-ipython-notebook-markdown"
   ]
  },
  {
   "cell_type": "markdown",
   "metadata": {},
   "source": [
    "# Steps to use Scikit-Learn "
   ]
  },
  {
   "cell_type": "raw",
   "metadata": {},
   "source": [
    "Scikit-Learn’s Estimator API\n",
    "----------------------------\n",
    "Every machine learning algorithm in Scikit-Learn is implemented via the Estimator API, which provides a consistent interface for a wide range\n",
    "of machine learning applications.\n",
    "------------------------------------------------------------------------\n",
    "\n",
    "For solving any ML problem, the steps in using the Scikit-Learn estimator API are as follows :\n",
    "\n",
    "1. Choose a class of model by importing the appropriate estimator class from Scikit-Learn.\n",
    "\n",
    "2. Choose model hyperparameters by instantiating this class with desired values.\n",
    "\n",
    "3. Arrange data into a features matrix and target vector. \n",
    "\n",
    "4. Fit the model to your data by calling the fit() method of the model instance.\n",
    "\n",
    "5. Apply the model to new data:\n",
    "• For supervised learning, often we predict labels for unknown data using the\n",
    "predict() method.\n",
    "• For unsupervised learning, we often transform or infer properties of the data\n",
    "using the transform() or predict() method."
   ]
  },
  {
   "cell_type": "raw",
   "metadata": {},
   "source": [
    "Example 2: on Supervised learning : Simple linear regression"
   ]
  },
  {
   "cell_type": "code",
   "execution_count": 45,
   "metadata": {},
   "outputs": [
    {
     "data": {
      "image/png": "[encoded data removed]",
      "text/plain": [
       "<Figure size 432x288 with 1 Axes>"
      ]
     },
     "metadata": {
      "needs_background": "light"
     },
     "output_type": "display_data"
    }
   ],
   "source": [
    "# As an example of this process, let’s consider a simple linear regression\n",
    "# that is, the common case of fitting a line to x, y data. \n",
    "# We will use the following simple data for our regression example :\n",
    "\n",
    "import matplotlib.pyplot as plt\n",
    "import numpy as np\n",
    "\n",
    "rng = np.random.RandomState(42)  # RandomState() and seed() both define seed \n",
    "#if the seed is same same random number will be genrated\n",
    "\n",
    "# we are randomly producing some 50 (x,y) values\n",
    "x = 10 * rng.rand(50)  \n",
    "y = 2 * x - 1 + rng.randn(50)\n",
    "\n",
    "# making a scatter plot, to see our 50 points \n",
    "plt.scatter(x, y);\n",
    "plt.show()"
   ]
  },
  {
   "cell_type": "raw",
   "metadata": {},
   "source": [
    "Step 1. Choose a class of model.\n",
    "\n",
    "> In Scikit-Learn, every class of model is represented by a Python class. So, for example, if we would like to compute a simple linear regression model, we can import the linear regression class:"
   ]
  },
  {
   "cell_type": "code",
   "execution_count": 46,
   "metadata": {},
   "outputs": [],
   "source": [
    "from sklearn.linear_model import LinearRegression"
   ]
  },
  {
   "cell_type": "raw",
   "metadata": {},
   "source": [
    "Step 2. Choose model hyperparameters.\n",
    "\n",
    "> An important point is that a class of model is not the same as an instance of a model.\n",
    "\n",
    "> Once we have decided on our model class, there are still some options open to us.\n",
    "\n",
    "> Depending on the model class we are working with, we might need to answer\n",
    "one or more questions like the following:\n",
    "\n",
    "• Would we like to fit for the offset (i.e., intercept)?\n",
    "• Would we like the model to be normalized?\n",
    "• Would we like to preprocess our features to add model flexibility?\n",
    "• What degree of regularization would we like to use in our model?\n",
    "• How many model components would we like to use?"
   ]
  },
  {
   "cell_type": "raw",
   "metadata": {},
   "source": [
    "These are examples of the important choices that must be made once the model\n",
    "class is selected. \n",
    "\n",
    ">> These choices are often represented as hyperparameters, or\n",
    "parameters that must be set before the model is fit to data. \n",
    "\n",
    ">> In Scikit-Learn, we choose hyperparameters by passing values at model instantiation."
   ]
  },
  {
   "cell_type": "code",
   "execution_count": 47,
   "metadata": {},
   "outputs": [
    {
     "data": {
      "text/plain": [
       "LinearRegression(copy_X=True, fit_intercept=True, n_jobs=None, normalize=False)"
      ]
     },
     "execution_count": 47,
     "metadata": {},
     "output_type": "execute_result"
    }
   ],
   "source": [
    "# For our linear regression example, we can instantiate the LinearRegression\n",
    "# class and specify that we would like to fit the intercept using \n",
    "# the fit_intercept hyperparameter:\n",
    "\n",
    "model = LinearRegression(fit_intercept=True)  \n",
    "model\n",
    "\n",
    "# If fit_intercept set to False, no intercept will be used in calculations"
   ]
  },
  {
   "cell_type": "raw",
   "metadata": {},
   "source": [
    "Step 3. Arrange data into a features matrix and target vector.\n",
    "\n",
    "Remember, The Scikit-Learn requires data as a two-dimensional features matrix and a one-dimensional target array. \n",
    "\n",
    "Here our target variable y is already in the correct form (a length-n_samples array), but we need to massage the data x to make it a matrix of size [n_samples, n_features].\n",
    "\n",
    "In this case, this amounts to a simple reshaping of the one-dimensional array:"
   ]
  },
  {
   "cell_type": "code",
   "execution_count": 48,
   "metadata": {},
   "outputs": [
    {
     "data": {
      "text/plain": [
       "(50, 1)"
      ]
     },
     "execution_count": 48,
     "metadata": {},
     "output_type": "execute_result"
    }
   ],
   "source": [
    "X = x[:, np.newaxis] # we made the 1D array of (50,) to(50,1)\n",
    "X.shape"
   ]
  },
  {
   "cell_type": "raw",
   "metadata": {},
   "source": [
    "Step 4. Fit the model to your data.\n",
    "\n",
    "Now it is time to apply our model to data. This can be done with the fit()\n",
    "method of the model:"
   ]
  },
  {
   "cell_type": "code",
   "execution_count": 49,
   "metadata": {},
   "outputs": [
    {
     "data": {
      "text/plain": [
       "LinearRegression(copy_X=True, fit_intercept=True, n_jobs=None, normalize=False)"
      ]
     },
     "execution_count": 49,
     "metadata": {},
     "output_type": "execute_result"
    }
   ],
   "source": [
    "model.fit(X, y)"
   ]
  },
  {
   "cell_type": "raw",
   "metadata": {},
   "source": [
    "This fit() command causes a number of model-dependent internal computations\n",
    "to take place, and the results of these computations are stored in model\n",
    "specific attributes that the user can explore."
   ]
  },
  {
   "cell_type": "code",
   "execution_count": 50,
   "metadata": {},
   "outputs": [
    {
     "data": {
      "text/plain": [
       "array([1.9776566])"
      ]
     },
     "execution_count": 50,
     "metadata": {},
     "output_type": "execute_result"
    }
   ],
   "source": [
    "model.coef_    # indicates the slope"
   ]
  },
  {
   "cell_type": "code",
   "execution_count": 51,
   "metadata": {},
   "outputs": [
    {
     "data": {
      "text/plain": [
       "-0.903310725531111"
      ]
     },
     "execution_count": 51,
     "metadata": {},
     "output_type": "execute_result"
    }
   ],
   "source": [
    "model.intercept_   # indicates the y-intercept"
   ]
  },
  {
   "cell_type": "raw",
   "metadata": {},
   "source": [
    "Step 5. Predict labels for unknown data.\n",
    "\n",
    "Once the model is trained, the main task of supervised machine learning is to\n",
    "evaluate it based on what it says about new data that was not part of the training set. \n",
    "\n",
    "In Scikit-Learn, we can do this using the predict() method. For the sake of\n",
    "this example, our “new data” will be a grid of x values, and we will ask \n",
    "what y values the model predicts:"
   ]
  },
  {
   "cell_type": "code",
   "execution_count": 52,
   "metadata": {},
   "outputs": [],
   "source": [
    "xfit = np.linspace(-1, 11) \n",
    "# it creates 50 uniformly spaced values in range of -1 to 11\n",
    "\n",
    "\n",
    "# How line space works ?\n",
    "# https://www.sharpsightlabs.com/blog/numpy-linspace/"
   ]
  },
  {
   "cell_type": "code",
   "execution_count": 53,
   "metadata": {},
   "outputs": [],
   "source": [
    "# we need to re-shape these x values into a [n_samples, n_features]\n",
    "# features matrix, after which we can feed it to the model:\n",
    "    \n",
    "Xfit = xfit[:, np.newaxis]\n",
    "yfit = model.predict(Xfit)"
   ]
  },
  {
   "cell_type": "code",
   "execution_count": 54,
   "metadata": {},
   "outputs": [
    {
     "data": {
      "image/png": "[encoded data removed]",
      "text/plain": [
       "<Figure size 432x288 with 1 Axes>"
      ]
     },
     "metadata": {
      "needs_background": "light"
     },
     "output_type": "display_data"
    }
   ],
   "source": [
    "# let’s visualize the results by plotting first the raw data, \n",
    "# and then this model fit:\n",
    "\n",
    "plt.scatter(x, y) # plots the input points\n",
    "plt.plot(xfit, yfit) # plots the regression line.\n",
    "plt.show()"
   ]
  },
  {
   "cell_type": "raw",
   "metadata": {},
   "source": [
    "Difference between numpy-linspace-and-numpy-logspace ?\n",
    "\n",
    "https://stackoverflow.com/questions/31480033/difference-in-output-between-numpy-linspace-and-numpy-logspace"
   ]
  },
  {
   "cell_type": "raw",
   "metadata": {},
   "source": [
    "Example 3: Supervised learning : Iris classification\n",
    "-----------------------------------------------------\n",
    "\n",
    "Our question will be this: given a model trained on a portion of the Iris data,\n",
    "how well can we predict the remaining labels?\n",
    "(We saw the iris dataset, at the start of example 2)\n",
    "\n",
    "For this task, we will use an extremely simple generative model known as Gaussian naive Bayes, which proceeds by assuming each class is drawn from an axis  -> aligned Gaussian distribution \n",
    "\n",
    "Because it is so fast and has no hyperparameters to choose, Gaussian\n",
    "naive Bayes is often a good model to use as a baseline classification, before you explore whether improvements , through more sophisticated models."
   ]
  },
  {
   "cell_type": "raw",
   "metadata": {},
   "source": [
    "We would like to evaluate the model on data, it has not seen before, and so we will split the data into a training set and a testing set. \n",
    "\n",
    "This could be done by hand, but it is more convenient to use the train_test_split utility function:"
   ]
  },
  {
   "cell_type": "code",
   "execution_count": 55,
   "metadata": {},
   "outputs": [],
   "source": [
    "from sklearn.model_selection import train_test_split\n",
    "Xtrain, Xtest, ytrain, ytest = train_test_split(X_iris, y_iris,\n",
    "random_state=1)\n",
    "#if random_state is not given everyone will get different split data\n",
    "# default train data -->75%\n",
    "# thereby test data -->25%"
   ]
  },
  {
   "cell_type": "code",
   "execution_count": 56,
   "metadata": {},
   "outputs": [],
   "source": [
    "# With the data arranged, we can follow our steps to predict the labels:\n",
    "\n",
    "# 1. choose model class\n",
    "from sklearn.naive_bayes import GaussianNB \n",
    "\n",
    "# 2. instantiate model\n",
    "model = GaussianNB() \n",
    "\n",
    "# 3. fit model to data\n",
    "model.fit(Xtrain, ytrain) \n",
    "\n",
    "# 4. predict on new data\n",
    "y_pred = model.predict(Xtest) "
   ]
  },
  {
   "cell_type": "code",
   "execution_count": 57,
   "metadata": {},
   "outputs": [
    {
     "data": {
      "text/plain": [
       "0.9736842105263158"
      ]
     },
     "execution_count": 57,
     "metadata": {},
     "output_type": "execute_result"
    }
   ],
   "source": [
    "# Finally, we can use the accuracy_score utility to see \n",
    "# the fraction of predicted labels that match their true value:\n",
    "\n",
    "from sklearn.metrics import accuracy_score\n",
    "accuracy_score(ytest, y_pred)"
   ]
  },
  {
   "cell_type": "raw",
   "metadata": {},
   "source": [
    "Accuracy score of 0.973 indicates 97.3% match between the predicted labels with their true values.  "
   ]
  },
  {
   "cell_type": "raw",
   "metadata": {},
   "source": [
    "Example 3: Unsupervised learning : Iris dimensionality\n",
    "------------------------------------------------------\n",
    "\n",
    "As an example of an unsupervised learning problem, let’s take a look at reducing the dimensionality of the Iris data so as to more easily visualize it. \n",
    "\n",
    "Recall that the Iris data is four dimensional: there are four features recorded for each sample.\n",
    "\n",
    "The task of dimensionality reduction is to ask whether there is a suitable lower dimensional representation that retains the essential features of the data. Often dimensionality reduction is used as an aid to visualizing data; after all, it is much easier to plot data in two dimensions than in four dimensions or higher!"
   ]
  },
  {
   "cell_type": "raw",
   "metadata": {},
   "source": [
    "Here we will use principal component analysis (PCA), which is a fast linear dimensionality reduction technique.\n",
    "\n",
    "We will ask the model to return two components — that is, a two-dimensional\n",
    "representation of the data."
   ]
  },
  {
   "cell_type": "code",
   "execution_count": 58,
   "metadata": {},
   "outputs": [],
   "source": [
    "# 1. Choose the model class\n",
    "from sklearn.decomposition import PCA \n",
    "\n",
    "# 2. Instantiate the model with hyperparameters\n",
    "model = PCA(n_components=2) \n",
    "\n",
    "# 3. Fit to data. Notice y is not specified!\n",
    "model.fit(X_iris) \n",
    "\n",
    "# 4. Transform the data to two dimensions\n",
    "X_2D = model.transform(X_iris) \n",
    "\n",
    "# Now let’s plot the results. \n",
    "# A quick way to do this is to insert the results into the \n",
    "# original Iris DataFrame, and use Seaborn’s lmplot to show the results."
   ]
  },
  {
   "cell_type": "code",
   "execution_count": 59,
   "metadata": {},
   "outputs": [
    {
     "data": {
      "image/png": "[encoded data removed]",
      "text/plain": [
       "<Figure size 444.75x360 with 1 Axes>"
      ]
     },
     "metadata": {
      "needs_background": "light"
     },
     "output_type": "display_data"
    }
   ],
   "source": [
    "iris['PCA1'] = X_2D[:, 0]\n",
    "iris['PCA2'] = X_2D[:, 1]\n",
    "sns.lmplot(\"PCA1\", \"PCA2\", hue='species', data=iris, fit_reg=False);\n",
    "\n",
    "# fit_reg=False is needed to force lmplot to draw a scatter plot\n",
    "# More on fit_reg here : https://github.com/mwaskom/seaborn/issues/1452\n",
    "\n",
    "# use hue for the most important comparison. \n",
    "# Here \"species\" is the paramater to classify\n",
    "# To know about all parameters of lmplot : see \n",
    "# https://seaborn.pydata.org/generated/seaborn.lmplot.html"
   ]
  },
  {
   "cell_type": "raw",
   "metadata": {},
   "source": [
    "Above we see that in the two-dimensional representation, the species are fairly well separated, even though the PCA algorithm had no knowledge of the species labels!  (Hence Unsupervised Learning)"
   ]
  },
  {
   "cell_type": "raw",
   "metadata": {},
   "source": [
    "Example 4 : Unsupervised learning: Iris clustering\n",
    "--------------------------------------------------\n",
    "\n",
    "Let’s next look at applying clustering to the Iris data. A clustering algorithm attempts to find distinct groups of data without reference to any labels. Here we will use a powerful clustering method called a Gaussian mixture model (GMM).\n",
    "\n",
    "A GMM attempts to model the data as a collection of Gaussian blobs.(blobs->binary large objects )"
   ]
  },
  {
   "cell_type": "code",
   "execution_count": 60,
   "metadata": {},
   "outputs": [],
   "source": [
    "# 1. Choose the model class\n",
    "#import sklearn.mixture \n",
    "from sklearn import mixture   \n",
    "\n",
    "# 2. Instantiate the model w/ hyperparameters\n",
    "#model = GaussianMixture(n_components=3, covariance_type='full')\n",
    "model = mixture.GaussianMixture(n_components=3, covariance_type='full')\n",
    "\n",
    "# 3. Fit to data. Notice y is not specified!\n",
    "model.fit(X_iris) \n",
    "#bcz it is unsupervised we wont pass  y parameter\n",
    "# 4. Determine cluster labels\n",
    "y_gmm = model.predict(X_iris) "
   ]
  },
  {
   "cell_type": "code",
   "execution_count": 61,
   "metadata": {},
   "outputs": [
    {
     "data": {
      "image/png": "[encoded data removed]",
      "text/plain": [
       "<Figure size 1164.75x360 with 3 Axes>"
      ]
     },
     "metadata": {
      "needs_background": "light"
     },
     "output_type": "display_data"
    }
   ],
   "source": [
    "# we will add the cluster label to the Iris DataFrame and \n",
    "# use Seaborn to plot the results.\n",
    "\n",
    "iris['cluster'] = y_gmm\n",
    "#Hue gives colors finds unique species n gives colors accordinly\n",
    "#data = iris where data is take\n",
    "#PCA finds best fitting input columns\n",
    "#col='cluster'---> finds clusters\n",
    "#fit_reg= False bcz we dont want best fit line\n",
    "sns.lmplot(\"PCA1\", \"PCA2\", data=iris, hue='species',\n",
    "col='cluster', fit_reg=False);"
   ]
  },
  {
   "cell_type": "raw",
   "metadata": {},
   "source": [
    "Note about GMM  : (clustering approach)\n",
    "---------------------------------------\n",
    "\n",
    "By splitting the data by cluster number, we see exactly how well the GMM algorithm has recovered the underlying label: the setosa species is separated perfectly within cluster 0, while there remains a small amount of mixing between versicolor and virginica.\n",
    "\n",
    "This means that even without an expert to tell us the species labels of the individual flowers, the measurements of these flowers are distinct enough that we could automatically identify the presence of these different groups of species with a simple clustering algorithm! \n",
    "\n",
    "This sort of algorithm might further give experts in the field\n",
    "clues as to the relationship between the samples they are observing."
   ]
  },
  {
   "cell_type": "markdown",
   "metadata": {},
   "source": [
    "# Recalling Scikit-learn concepts learned till now"
   ]
  },
  {
   "cell_type": "raw",
   "metadata": {},
   "source": [
    "1> Scikit-learn : (lasso) Regression Models through the diabetes dataset.\n",
    "\n",
    "2> Basics of Scikit learn API\n",
    "   a> Data representation\n",
    "   b> the Estimator API\n",
    "   \n",
    "3> Steps to use Scikit-Learn i.e steps to use an Estimator \n",
    "\n",
    "4> Example 1 : on Supervised learning : Simple linear regression\n",
    "# here we used a 50 randomly generated data points\n",
    "\n",
    "5> Example 2: on Supervised learning : Iris classification\n",
    "# here we used Gaussian naive Bayes to classify the data.\n",
    "\n",
    "6> Example 3: Unsupervised learning : Iris dimensionality reduction\n",
    "# here we used principal component analysis (PCA) technique.\n",
    "# o/p was classified very well in the two-dimensions\n",
    "\n",
    "7> Example 4: Unsupervised learning: Iris clustering\n",
    "# here we found distinct groups of data without reference to any labels.\n",
    "# we used GMM - Gaussian mixture model."
   ]
  },
  {
   "cell_type": "markdown",
   "metadata": {},
   "source": [
    "add this to Scikit learning NB :     Good Read : When one model does not give us results , we can do something like ensemble-learning : https://towardsdatascience.com/simple-guide-for-ensemble-learning-methods-d87cc68705a2"
   ]
  }
 ],
 "metadata": {
  "kernelspec": {
   "display_name": "Python 3",
   "language": "python",
   "name": "python3"
  },
  "language_info": {
   "codemirror_mode": {
    "name": "ipython",
    "version": 3
   },
   "file_extension": ".py",
   "mimetype": "text/x-python",
   "name": "python",
   "nbconvert_exporter": "python",
   "pygments_lexer": "ipython3",
   "version": "3.6.5"
  }
 },
 "nbformat": 4,
 "nbformat_minor": 2
}

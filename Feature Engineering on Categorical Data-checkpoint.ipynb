{
 "cells": [
  {
   "cell_type": "markdown",
   "metadata": {},
   "source": [
    "# Feature Engineering on Categorical Data"
   ]
  },
  {
   "cell_type": "raw",
   "metadata": {},
   "source": [
    "Category or class labels can be text or numeric in nature. Usually there are\n",
    "two types of categorical variables—nominal and ordinal.\n",
    "Nominal categorical features are such that there is no concept of ordering among the values, i.e., it does not make sense to sort or order them. Movie or video game genres, weather seasons, and country names are some examples of nominal attributes. \n",
    "\n",
    "Ordinal categorical variables can be ordered and sorted on the basis of their values and hence these values have specific significance such that their order makes sense. Examples of ordinal attributes include clothing size, education level, and so on."
   ]
  },
  {
   "cell_type": "code",
   "execution_count": 1,
   "metadata": {},
   "outputs": [],
   "source": [
    "# # Import necessary dependencies and settings\n",
    "\n",
    "import pandas as pd\n",
    "import numpy as np"
   ]
  },
  {
   "cell_type": "markdown",
   "metadata": {},
   "source": [
    "# Transforming Nominal Features"
   ]
  },
  {
   "cell_type": "code",
   "execution_count": 1,
   "metadata": {},
   "outputs": [],
   "source": [
    "# Let’s look at a new dataset pertaining to video game sales. \n",
    "# This dataset is also available on Kaggle \n",
    "# (https://www.kaggle.com/gregorut/videogamesales).\n",
    "\n",
    "# # Transforming Nominal Features\n",
    "vg_df = pd.read_csv('datasets_module_4/vgsales.csv')\n",
    "print(vg_df[['Name', 'Platform', 'Year', 'Genre', 'Publisher']].iloc[1:7])"
   ]
  },
  {
   "cell_type": "raw",
   "metadata": {},
   "source": [
    "The dataset depicted in this dataframe shows us various attributes pertaining to video games. Features like Platform, Genre, and Publisher are nominal categorical variables. Let’s now try to transform the video game Genre feature into a numeric representation. Do note here that this doesn’t indicate that the transformed feature will be a numeric feature. It will still be a discrete valued categorical feature with numbers instead of text for each genre."
   ]
  },
  {
   "cell_type": "code",
   "execution_count": 2,
   "metadata": {},
   "outputs": [],
   "source": [
    "from sklearn.preprocessing import LabelEncoder\n",
    "\n",
    "gle = LabelEncoder()\n",
    "genre_labels = gle.fit_transform(vg_df['Genre'])\n",
    "genre_mappings = {index: label for index, label in enumerate(gle.classes_)}\n",
    "print(genre_mappings)\n",
    "\n",
    "# genre_mappings = { index , value }\n",
    "# here index is the labels index i.e 0,1, ..\n",
    "# label in enumerate would fetch all values from gle"
   ]
  },
  {
   "cell_type": "code",
   "execution_count": 3,
   "metadata": {},
   "outputs": [],
   "source": [
    "# From the output, we can see that a mapping scheme has been generated \n",
    "# where each genre value is mapped to a number with the help of the \n",
    "# LabelEncoder object gle. The transformed labels are stored in the\n",
    "# genre_labels value. Let’s write it back to the original dataframe \n",
    "\n",
    "vg_df['GenreLabel'] = genre_labels\n",
    "print(vg_df[['Name', 'Platform', 'Year', 'Genre', 'GenreLabel']].iloc[1:7])"
   ]
  },
  {
   "cell_type": "markdown",
   "metadata": {},
   "source": [
    "# Transforming Ordinal Features"
   ]
  },
  {
   "cell_type": "code",
   "execution_count": 4,
   "metadata": {},
   "outputs": [],
   "source": [
    "# Ordinal features are similar to nominal features except that order matters\n",
    "poke_df = pd.read_csv('datasets_module_4/Pokemon.csv')\n",
    "poke_df = poke_df.sample(random_state=1, frac=1)\n",
    "\n",
    "print(np.unique(poke_df['Generation']))"
   ]
  },
  {
   "cell_type": "raw",
   "metadata": {},
   "source": [
    "# From this output we can see that there are a total of six\n",
    "# generations of Pokémon.\n",
    "\n",
    "This attribute is definitely ordinal because Pokémon belonging to Generation 1\n",
    "were introduced earlier in the video games and the television shows than Generation 2 and so on. Hence they have a sense of order among them. \n",
    "\n",
    "Unfortunately, since there is a specific logic or set of rules involved\n",
    "in case of each ordinal variable, there is no generic module or function to map and transform these features into numeric representations. Hence we need to hand-craft this using our own logic."
   ]
  },
  {
   "cell_type": "code",
   "execution_count": null,
   "metadata": {},
   "outputs": [],
   "source": [
    "gen_ord_map = {'Gen 1': 1, 'Gen 2': 2, 'Gen 3': 3, \n",
    "               'Gen 4': 4, 'Gen 5': 5, 'Gen 6': 6}\n",
    "\n",
    "poke_df['GenerationLabel'] = poke_df['Generation'].map(gen_ord_map)\n",
    "print(poke_df[['Name', 'Generation', 'GenerationLabel']].iloc[4:10])"
   ]
  },
  {
   "cell_type": "markdown",
   "metadata": {},
   "source": [
    "# Encoding Categorical Features"
   ]
  },
  {
   "cell_type": "raw",
   "metadata": {},
   "source": [
    "You might now be wondering we already transformed and mapped the categorical\n",
    "variables into numeric representations in the previous sections so why would we need more levels of encoding again? \n",
    "\n",
    "The answer to this is pretty simple. If we directly fed these transformed numeric representations of categorical features into any algorithm, the model will essentially try to interpret these as raw numeric features and hence the notion of magnitude will be wrongly introduced in the system."
   ]
  },
  {
   "cell_type": "raw",
   "metadata": {},
   "source": [
    "Simple example would be from our previous output dataframe, a model fit on GenerationLabel would think that value 6 > 5 > 4 and so on. While order is important in the case of Pokémon generations (ordinal variable), there is no notion of magnitude here. Generation 6 is not larger than Generation 5 and\n",
    "Generation 1 is not smaller than Generation 6. Hence models built using these features directly would be sub-optimal and incorrect models.\n",
    "\n",
    "Solution : One Hot Encoding Scheme"
   ]
  },
  {
   "cell_type": "markdown",
   "metadata": {},
   "source": [
    "# One Hot Encoding Scheme"
   ]
  },
  {
   "cell_type": "code",
   "execution_count": 5,
   "metadata": {},
   "outputs": [],
   "source": [
    "# Considering we have numeric representation of any categorical feature \n",
    "# with m labels, the one hot encoding scheme, encodes or transforms \n",
    "# the feature into m binary features, which can only contain a value of 1 \n",
    "# or 0. Each observation in the categorical feature is thus converted \n",
    "# into a vector of size m with only one of the values as 1 \n",
    "# (indicating it as active). \n",
    "# Let’s take our Pokémon dataset and perform some one hot encoding\n",
    "# transformations on some of its categorical features.\n",
    "\n",
    "print(poke_df[['Name', 'Generation', 'Legendary']].iloc[4:10])\n",
    "print(\"-------------------------------------------------------\")\n",
    "gen_onehot_features = pd.get_dummies(poke_df['Generation'])\n",
    "print(pd.concat([poke_df[['Name', 'Generation']], gen_onehot_features], axis=1).iloc[4:10])"
   ]
  },
  {
   "cell_type": "markdown",
   "metadata": {},
   "source": [
    "# Feature Hashing Scheme"
   ]
  },
  {
   "cell_type": "raw",
   "metadata": {},
   "source": [
    "Hashing schemes work on strings, numbers and other structures like vectors. \n",
    "\n",
    "You can think of hashed outputs as a finite set of h bins such that when hash function is applied on the same values, they get assigned to the same bin out of the h bins based on the hash value. We can assign the value of h, which becomes the final size of the encoded feature vector for each categorical feature we encode using the feature hashing scheme. \n",
    "\n",
    "Thus even if we have over 1000 distinct categories in a feature and \n",
    "we set h = 10, the output feature set will still have only 10 features as compared to 1000 features if we used a one hot encoding scheme.\n",
    "\n",
    "Let’s look at the following code snippet, which shows us the number of distinct genres we have in our video game dataset."
   ]
  },
  {
   "cell_type": "code",
   "execution_count": 15,
   "metadata": {},
   "outputs": [
    {
     "name": "stdout",
     "output_type": "stream",
     "text": [
      "Total game genres: 12\n",
      "['Action' 'Adventure' 'Fighting' 'Misc' 'Platform' 'Puzzle' 'Racing'\n",
      " 'Role-Playing' 'Shooter' 'Simulation' 'Sports' 'Strategy']\n"
     ]
    }
   ],
   "source": [
    "unique_genres = np.unique(vg_df[['Genre']])\n",
    "print(\"Total game genres:\", len(unique_genres))\n",
    "print(unique_genres)"
   ]
  },
  {
   "cell_type": "markdown",
   "metadata": {},
   "source": [
    "We can clearly see from the output that there are 12 distinct genres and if we used a one hot encoding scheme on the Genre feature, we would end up having 12 binary features. Instead, we will now use a feature hashing scheme by leveraging scikit-learn's FeatureHasher class, which uses a signed 32-bit version of the Murmurhash3 hash function. The following code shows us how to use the feature hashing scheme where we will pre-set the feature vector size to be 6 (6 features instead of 12)."
   ]
  },
  {
   "cell_type": "code",
   "execution_count": null,
   "metadata": {},
   "outputs": [],
   "source": [
    "from sklearn.feature_extraction import FeatureHasher\n",
    "\n",
    "fh = FeatureHasher(n_features=6, input_type='string')\n",
    "hashed_features = fh.fit_transform(vg_df['Genre'])\n",
    "hashed_features = hashed_features.toarray()\n",
    "print(pd.concat([vg_df[['Name', 'Genre']], \n",
    "                 pd.DataFrame(hashed_features)], axis=1).iloc[1:7])"
   ]
  }
 ],
 "metadata": {
  "kernelspec": {
   "display_name": "Python 3",
   "language": "python",
   "name": "python3"
  },
  "language_info": {
   "codemirror_mode": {
    "name": "ipython",
    "version": 3
   },
   "file_extension": ".py",
   "mimetype": "text/x-python",
   "name": "python",
   "nbconvert_exporter": "python",
   "pygments_lexer": "ipython3",
   "version": "3.6.8"
  }
 },
 "nbformat": 4,
 "nbformat_minor": 2
}
